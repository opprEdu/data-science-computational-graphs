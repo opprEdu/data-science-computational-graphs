{
 "cells": [
  {
   "cell_type": "code",
   "execution_count": 2,
   "metadata": {},
   "outputs": [],
   "source": [
    "%matplotlib inline\n",
    "\n",
    "import torch\n",
    "from torch.autograd import Variable\n",
    "from torch import FloatTensor\n",
    "import torch.optim as optim\n",
    "\n",
    "from sklearn.datasets import make_blobs\n",
    "\n",
    "import numpy as np\n",
    "from matplotlib import pyplot as plt\n",
    "\n",
    "from pylab import rcParams"
   ]
  },
  {
   "cell_type": "code",
   "execution_count": 3,
   "metadata": {
    "collapsed": true
   },
   "outputs": [],
   "source": [
    "def init_clusters_v1(num_dimensions=2, num_clusters=3, random_state=None): \n",
    "    clusters = None\n",
    "    if random_state is None: \n",
    "        clusters = np.random.rand(num_clusters, num_dimensions)\n",
    "    else:\n",
    "        clusters = random_state.rand(num_clusters, num_dimensions)\n",
    "    return Variable(FloatTensor(clusters), requires_grad=True)"
   ]
  },
  {
   "cell_type": "code",
   "execution_count": 4,
   "metadata": {
    "collapsed": true
   },
   "outputs": [],
   "source": [
    "def create_dataset(num_samples=100, num_dimensions=2, num_clusters=3, std=1.0, random_state=None): \n",
    "    X, y = make_blobs(n_samples=num_samples, \n",
    "                      n_features=num_dimensions, \n",
    "                      centers=num_clusters, \n",
    "                      random_state=random_state, \n",
    "                      cluster_std=std)\n",
    "    return Variable(FloatTensor(X), requires_grad=False), Variable(FloatTensor(y), requires_grad=False)"
   ]
  },
  {
   "cell_type": "code",
   "execution_count": 5,
   "metadata": {
    "collapsed": true
   },
   "outputs": [],
   "source": [
    "def calculate_sample_cluster_cost(X, clusters, cost_fn='mean'): \n",
    "    norms = []\n",
    "    \n",
    "    for c in range(clusters.size()[0]):\n",
    "        sub = X - clusters[c].resize(1, 2).expand_as(X)\n",
    "        norm = sub.norm(2, 1)\n",
    "        norms.append(norm)\n",
    "    \n",
    "    norms = torch.cat(norms, 1)\n",
    "    \n",
    "    min_norm, clusters_memberships = norms.min(1)\n",
    "    \n",
    "    cost = None\n",
    "    \n",
    "    if cost_fn is 'mean': \n",
    "        cost = min_norm.mean()\n",
    "    if cost_fn is 'sum': \n",
    "        cost = min_norm.sum()\n",
    "    \n",
    "    return cost, min_norm, clusters_memberships"
   ]
  },
  {
   "cell_type": "code",
   "execution_count": 6,
   "metadata": {
    "collapsed": true
   },
   "outputs": [],
   "source": [
    "def calculate_cluster_cluster_cost(clusters, cost_fn='mean'): \n",
    "    clusters_ = clusters\n",
    "\n",
    "    norms = []\n",
    "\n",
    "    for c in range(clusters.size()[0]):\n",
    "        sub = clusters - clusters[c].resize(1, 2).expand_as(clusters)\n",
    "        #norm = sub.norm(2, 1)\n",
    "        norm = sub**2\n",
    "        norms.append(norm)\n",
    "\n",
    "    cost = None\n",
    "        \n",
    "    if cost_fn is 'mean': \n",
    "        cost = torch.mean(torch.cat(norms) / 2)\n",
    "    if cost_fn is 'sum':\n",
    "        cost = torch.sum(torch.cat(norms) / 2)\n",
    "        \n",
    "    return -cost"
   ]
  },
  {
   "cell_type": "code",
   "execution_count": 7,
   "metadata": {
    "collapsed": true
   },
   "outputs": [],
   "source": [
    "def kmeans_step(clusters, X, optimizer, cost_fn='mean', alpha=0.0): \n",
    "    \n",
    "    sample_cluster_cost, dist, cluster_assignment = calculate_sample_cluster_cost(X, clusters, cost_fn=cost_fn)\n",
    "    \n",
    "    cluster_cluster_cost = calculate_cluster_cluster_cost(clusters, cost_fn=cost_fn)\n",
    "    \n",
    "    total_cost = 0\n",
    "    \n",
    "    total_cost = sample_cluster_cost \n",
    "    \n",
    "    #total_cost += alpha * cluster_cluster_cost\n",
    "    \n",
    "    optimizer.zero_grad()\n",
    "    \n",
    "    total_cost.backward()\n",
    "    \n",
    "    optimizer.step()\n",
    "    \n",
    "    return total_cost, cluster_assignment"
   ]
  },
  {
   "cell_type": "code",
   "execution_count": 13,
   "metadata": {
    "collapsed": true
   },
   "outputs": [],
   "source": [
    "def plot(X, clusters, figsize=(10, 10)): \n",
    "    rcParams['figure.figsize'] = figsize\n",
    "    \n",
    "    X_ = X.data.numpy()\n",
    "    C_ = clusters.data.numpy()\n",
    "    \n",
    "    plt.plot(\n",
    "        X_[:,0], \n",
    "        X_[:,1], \n",
    "        'yo'\n",
    "    )\n",
    "    plt.plot(\n",
    "        C_[:, 0], \n",
    "        C_[:, 1], \n",
    "        'go'\n",
    "    )\n",
    "    plt.show()"
   ]
  },
  {
   "cell_type": "code",
   "execution_count": 14,
   "metadata": {},
   "outputs": [],
   "source": [
    "num_clusters = 3\n",
    "num_dimensions = 2\n",
    "cluster_std = 2.0\n",
    "num_samples = 200\n",
    "\n",
    "clusters = init_clusters_v1(num_clusters=num_clusters, \n",
    "                            random_state=np.random.RandomState(30))\n",
    "\n",
    "X, y = create_dataset(num_samples=num_samples, \n",
    "                      num_clusters=num_clusters, \n",
    "                      std=cluster_std, \n",
    "                      random_state=np.random.RandomState(10))\n",
    "\n",
    "optimizer1 = optim.RMSprop([clusters])"
   ]
  },
  {
   "cell_type": "code",
   "execution_count": 82,
   "metadata": {},
   "outputs": [
    {
     "data": {
      "image/png": "[encoded data removed]",
      "text/plain": [
       "<matplotlib.figure.Figure at 0x7f1a32af8bd0>"
      ]
     },
     "metadata": {},
     "output_type": "display_data"
    }
   ],
   "source": [
    "plot(X, clusters)"
   ]
  },
  {
   "cell_type": "code",
   "execution_count": 83,
   "metadata": {},
   "outputs": [
    {
     "data": {
      "image/png": "[encoded data removed]",
      "text/plain": [
       "<matplotlib.figure.Figure at 0x7f1a2f48a450>"
      ]
     },
     "metadata": {},
     "output_type": "display_data"
    }
   ],
   "source": [
    "clusters_positions = {}\n",
    "\n",
    "for i in range(clusters.size()[0]):\n",
    "    clusters_positions[i] = {\n",
    "        0: [], \n",
    "        1: []\n",
    "    }\n",
    "\n",
    "for i in range(200):\n",
    "    #optimizer1 = optim.RMSprop([clusters])\n",
    "    optimizer1.zero_grad()\n",
    "    \n",
    "    cost, cluster_assignment = kmeans_step(clusters, X, optimizer1)\n",
    "    \n",
    "    for i in range(clusters.size()[0]):\n",
    "        clusters_positions[i][0].append(clusters.data.numpy()[i, 0])\n",
    "        clusters_positions[i][1].append(clusters.data.numpy()[i, 1])\n",
    "    \n",
    "    \n",
    "plot(X, clusters)"
   ]
  },
  {
   "cell_type": "code",
   "execution_count": 119,
   "metadata": {},
   "outputs": [
    {
     "data": {
      "text/plain": [
       "[None, None, None, None]"
      ]
     },
     "execution_count": 119,
     "metadata": {},
     "output_type": "execute_result"
    },
    {
     "data": {
      "image/png": "[encoded data removed]",
      "text/plain": [
       "<matplotlib.figure.Figure at 0x7f1a2f18f450>"
      ]
     },
     "metadata": {},
     "output_type": "display_data"
    }
   ],
   "source": [
    "lines = plt.plot(clusters_positions[0][0], clusters_positions[0][1])\n",
    "plt.setp(lines, color='red', linewidth=0.5, markersize=2, marker='+')"
   ]
  },
  {
   "cell_type": "code",
   "execution_count": null,
   "metadata": {
    "collapsed": true
   },
   "outputs": [],
   "source": []
  },
  {
   "cell_type": "code",
   "execution_count": null,
   "metadata": {
    "collapsed": true
   },
   "outputs": [],
   "source": []
  },
  {
   "cell_type": "code",
   "execution_count": 21,
   "metadata": {
    "collapsed": true
   },
   "outputs": [],
   "source": [
    "from ipywidgets import interact, interactive, fixed, interact_manual\n",
    "import ipywidgets as widgets\n",
    "from ipywidgets import FloatSlider"
   ]
  },
  {
   "cell_type": "code",
   "execution_count": 24,
   "metadata": {
    "collapsed": true
   },
   "outputs": [],
   "source": [
    "def step(n_steps=1.0): \n",
    "    optimizer1.zero_grad()\n",
    "    \n",
    "    for i in range(int(n_steps)):\n",
    "        kmeans_step(clusters, X, optimizer1)\n",
    "    \n",
    "    plot(X, clusters)"
   ]
  },
  {
   "cell_type": "code",
   "execution_count": 25,
   "metadata": {},
   "outputs": [
    {
     "data": {
      "application/vnd.jupyter.widget-view+json": {
       "model_id": "c0b718b462f644a9822fddc746aaa2af",
       "version_major": 2,
       "version_minor": 0
      },
      "text/plain": [
       "A Jupyter Widget"
      ]
     },
     "metadata": {},
     "output_type": "display_data"
    }
   ],
   "source": [
    "interact_manual(step, n_steps=FloatSlider(min=1, max=20, step=1));"
   ]
  },
  {
   "cell_type": "code",
   "execution_count": null,
   "metadata": {
    "collapsed": true
   },
   "outputs": [],
   "source": []
  }
 ],
 "metadata": {
  "kernelspec": {
   "display_name": "Python 2",
   "language": "python",
   "name": "python2"
  },
  "language_info": {
   "codemirror_mode": {
    "name": "ipython",
    "version": 2
   },
   "file_extension": ".py",
   "mimetype": "text/x-python",
   "name": "python",
   "nbconvert_exporter": "python",
   "pygments_lexer": "ipython2",
   "version": "2.7.12"
  }
 },
 "nbformat": 4,
 "nbformat_minor": 2
}
